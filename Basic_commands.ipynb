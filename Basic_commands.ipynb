{
  "nbformat": 4,
  "nbformat_minor": 0,
  "metadata": {
    "colab": {
      "provenance": [],
      "authorship_tag": "ABX9TyOzzqSysSj+8i65egftZFRJ",
      "include_colab_link": true
    },
    "kernelspec": {
      "name": "ir",
      "display_name": "R"
    },
    "language_info": {
      "name": "R"
    }
  },
  "cells": [
    {
      "cell_type": "markdown",
      "metadata": {
        "id": "view-in-github",
        "colab_type": "text"
      },
      "source": [
        "<a href=\"https://colab.research.google.com/github/MoeeinAali/CEIntro-1402/blob/main/Basic_commands.ipynb\" target=\"_parent\"><img src=\"https://colab.research.google.com/assets/colab-badge.svg\" alt=\"Open In Colab\"/></a>"
      ]
    },
    {
      "cell_type": "code",
      "source": [
        "\"Hello World!\"\n",
        "1+2"
      ],
      "metadata": {
        "colab": {
          "base_uri": "https://localhost:8080/",
          "height": 52
        },
        "id": "eZp2ToORvxF9",
        "outputId": "f2549d4e-2c59-4c77-c9c4-9b1c46f6cc1f"
      },
      "execution_count": 3,
      "outputs": [
        {
          "output_type": "display_data",
          "data": {
            "text/html": [
              "'Hello World!'"
            ],
            "text/markdown": "'Hello World!'",
            "text/latex": "'Hello World!'",
            "text/plain": [
              "[1] \"Hello World!\""
            ]
          },
          "metadata": {}
        },
        {
          "output_type": "display_data",
          "data": {
            "text/html": [
              "3"
            ],
            "text/markdown": "3",
            "text/latex": "3",
            "text/plain": [
              "[1] 3"
            ]
          },
          "metadata": {}
        }
      ]
    },
    {
      "cell_type": "code",
      "source": [
        "5\n",
        "10\n",
        "15"
      ],
      "metadata": {
        "colab": {
          "base_uri": "https://localhost:8080/",
          "height": 69
        },
        "id": "rpC3DiGxwA_w",
        "outputId": "1795fbe9-efed-430d-bcb4-05d7c6e2dad2"
      },
      "execution_count": 7,
      "outputs": [
        {
          "output_type": "display_data",
          "data": {
            "text/html": [
              "5"
            ],
            "text/markdown": "5",
            "text/latex": "5",
            "text/plain": [
              "[1] 5"
            ]
          },
          "metadata": {}
        },
        {
          "output_type": "display_data",
          "data": {
            "text/html": [
              "10"
            ],
            "text/markdown": "10",
            "text/latex": "10",
            "text/plain": [
              "[1] 10"
            ]
          },
          "metadata": {}
        },
        {
          "output_type": "display_data",
          "data": {
            "text/html": [
              "15"
            ],
            "text/markdown": "15",
            "text/latex": "15",
            "text/plain": [
              "[1] 15"
            ]
          },
          "metadata": {}
        }
      ]
    },
    {
      "cell_type": "code",
      "source": [
        "5 + 5"
      ],
      "metadata": {
        "colab": {
          "base_uri": "https://localhost:8080/",
          "height": 34
        },
        "id": "IkTB6udBygDV",
        "outputId": "86c1b7e7-6b27-4086-d621-12a7c15bdd22"
      },
      "execution_count": 9,
      "outputs": [
        {
          "output_type": "display_data",
          "data": {
            "text/html": [
              "10"
            ],
            "text/markdown": "10",
            "text/latex": "10",
            "text/plain": [
              "[1] 10"
            ]
          },
          "metadata": {}
        }
      ]
    },
    {
      "cell_type": "code",
      "source": [
        "for(i in 1:10){\n",
        "  print(i)\n",
        "}"
      ],
      "metadata": {
        "colab": {
          "base_uri": "https://localhost:8080/"
        },
        "id": "mWMc9-Dkyj_T",
        "outputId": "5743b3e8-8fc6-4bcd-860f-67fb2da80045"
      },
      "execution_count": 11,
      "outputs": [
        {
          "output_type": "stream",
          "name": "stdout",
          "text": [
            "[1] 1\n",
            "[1] 2\n",
            "[1] 3\n",
            "[1] 4\n",
            "[1] 5\n",
            "[1] 6\n",
            "[1] 7\n",
            "[1] 8\n",
            "[1] 9\n",
            "[1] 10\n"
          ]
        }
      ]
    },
    {
      "cell_type": "code",
      "source": [
        "# a comment\n",
        "print(\"Moeein\")"
      ],
      "metadata": {
        "colab": {
          "base_uri": "https://localhost:8080/"
        },
        "id": "g8xYII5jy947",
        "outputId": "1af55f16-5a80-44b0-e592-52445b225003"
      },
      "execution_count": 12,
      "outputs": [
        {
          "output_type": "stream",
          "name": "stdout",
          "text": [
            "[1] \"Moeein\"\n"
          ]
        }
      ]
    },
    {
      "cell_type": "code",
      "source": [
        "name <- \"Moeein\"\n",
        "age <- 20\n",
        "\n",
        "name\n",
        "age"
      ],
      "metadata": {
        "colab": {
          "base_uri": "https://localhost:8080/",
          "height": 52
        },
        "id": "FRGbchuUzCok",
        "outputId": "c5a4a636-fed8-4735-e3cb-21dbe0a1c624"
      },
      "execution_count": 15,
      "outputs": [
        {
          "output_type": "display_data",
          "data": {
            "text/html": [
              "'Moeein'"
            ],
            "text/markdown": "'Moeein'",
            "text/latex": "'Moeein'",
            "text/plain": [
              "[1] \"Moeein\""
            ]
          },
          "metadata": {}
        },
        {
          "output_type": "display_data",
          "data": {
            "text/html": [
              "20"
            ],
            "text/markdown": "20",
            "text/latex": "20",
            "text/plain": [
              "[1] 20"
            ]
          },
          "metadata": {}
        }
      ]
    },
    {
      "cell_type": "code",
      "source": [
        "familyName <- \"Aali\"\n",
        "fullName <- paste(name,familyName)\n",
        "print(fullName)"
      ],
      "metadata": {
        "colab": {
          "base_uri": "https://localhost:8080/"
        },
        "id": "k9TNcalGz51x",
        "outputId": "f3f226a0-a0af-4603-e617-c6bd9e231895"
      },
      "execution_count": 19,
      "outputs": [
        {
          "output_type": "stream",
          "name": "stdout",
          "text": [
            "[1] \"Moeein Aali\"\n"
          ]
        }
      ]
    },
    {
      "cell_type": "code",
      "source": [
        "num <- 5\n",
        "text <- \"Some text\"\n",
        "\n",
        "num + text"
      ],
      "metadata": {
        "colab": {
          "base_uri": "https://localhost:8080/",
          "height": 108
        },
        "id": "7m1ECS-X0QzC",
        "outputId": "e3f8f552-1d21-4056-bde2-18a7ffdb469d"
      },
      "execution_count": 20,
      "outputs": [
        {
          "output_type": "error",
          "ename": "ERROR",
          "evalue": "Error in num + text: non-numeric argument to binary operator\n",
          "traceback": [
            "Error in num + text: non-numeric argument to binary operator\nTraceback:\n"
          ]
        }
      ]
    },
    {
      "cell_type": "code",
      "source": [
        "var1 <- var2 <- var3 <- \"Moeein\"\n",
        "var1\n",
        "var2\n",
        "var3"
      ],
      "metadata": {
        "colab": {
          "base_uri": "https://localhost:8080/",
          "height": 69
        },
        "id": "bo6dci8t0uzd",
        "outputId": "e15ce8a0-a62e-4456-fee5-b1bdfbacde87"
      },
      "execution_count": 25,
      "outputs": [
        {
          "output_type": "display_data",
          "data": {
            "text/html": [
              "'Moeein'"
            ],
            "text/markdown": "'Moeein'",
            "text/latex": "'Moeein'",
            "text/plain": [
              "[1] \"Moeein\""
            ]
          },
          "metadata": {}
        },
        {
          "output_type": "display_data",
          "data": {
            "text/html": [
              "'Moeein'"
            ],
            "text/markdown": "'Moeein'",
            "text/latex": "'Moeein'",
            "text/plain": [
              "[1] \"Moeein\""
            ]
          },
          "metadata": {}
        },
        {
          "output_type": "display_data",
          "data": {
            "text/html": [
              "'Moeein'"
            ],
            "text/markdown": "'Moeein'",
            "text/latex": "'Moeein'",
            "text/plain": [
              "[1] \"Moeein\""
            ]
          },
          "metadata": {}
        }
      ]
    },
    {
      "cell_type": "code",
      "source": [
        "# numeric\n",
        "x <- 10.5\n",
        "class(x)\n",
        "\n",
        "# integer\n",
        "x <- 1000L\n",
        "class(x)\n",
        "\n",
        "# complex\n",
        "x <- 9i + 3\n",
        "class(x)\n",
        "\n",
        "# character(string)\n",
        "x <- \"R is exciting\"\n",
        "class(x)\n",
        "\n",
        "# logical(boolean)\n",
        "x <- TRUE\n",
        "class(x)"
      ],
      "metadata": {
        "colab": {
          "base_uri": "https://localhost:8080/",
          "height": 104
        },
        "id": "knCF-3jT1pKE",
        "outputId": "90d910db-4538-4c58-dad9-4a3c478a1210"
      },
      "execution_count": 38,
      "outputs": [
        {
          "output_type": "display_data",
          "data": {
            "text/html": [
              "'numeric'"
            ],
            "text/markdown": "'numeric'",
            "text/latex": "'numeric'",
            "text/plain": [
              "[1] \"numeric\""
            ]
          },
          "metadata": {}
        },
        {
          "output_type": "display_data",
          "data": {
            "text/html": [
              "'integer'"
            ],
            "text/markdown": "'integer'",
            "text/latex": "'integer'",
            "text/plain": [
              "[1] \"integer\""
            ]
          },
          "metadata": {}
        },
        {
          "output_type": "display_data",
          "data": {
            "text/html": [
              "'complex'"
            ],
            "text/markdown": "'complex'",
            "text/latex": "'complex'",
            "text/plain": [
              "[1] \"complex\""
            ]
          },
          "metadata": {}
        },
        {
          "output_type": "display_data",
          "data": {
            "text/html": [
              "'character'"
            ],
            "text/markdown": "'character'",
            "text/latex": "'character'",
            "text/plain": [
              "[1] \"character\""
            ]
          },
          "metadata": {}
        },
        {
          "output_type": "display_data",
          "data": {
            "text/html": [
              "'logical'"
            ],
            "text/markdown": "'logical'",
            "text/latex": "'logical'",
            "text/plain": [
              "[1] \"logical\""
            ]
          },
          "metadata": {}
        }
      ]
    },
    {
      "cell_type": "code",
      "source": [
        "x <- 10.5\n",
        "y <- 55\n",
        "\n",
        "x\n",
        "y\n",
        "class(x)\n",
        "class(y)"
      ],
      "metadata": {
        "colab": {
          "base_uri": "https://localhost:8080/",
          "height": 86
        },
        "id": "3w5BOIiT2CsV",
        "outputId": "a719672f-2a12-49c9-c5be-1025d2c81d89"
      },
      "execution_count": 36,
      "outputs": [
        {
          "output_type": "display_data",
          "data": {
            "text/html": [
              "10.5"
            ],
            "text/markdown": "10.5",
            "text/latex": "10.5",
            "text/plain": [
              "[1] 10.5"
            ]
          },
          "metadata": {}
        },
        {
          "output_type": "display_data",
          "data": {
            "text/html": [
              "55"
            ],
            "text/markdown": "55",
            "text/latex": "55",
            "text/plain": [
              "[1] 55"
            ]
          },
          "metadata": {}
        },
        {
          "output_type": "display_data",
          "data": {
            "text/html": [
              "'numeric'"
            ],
            "text/markdown": "'numeric'",
            "text/latex": "'numeric'",
            "text/plain": [
              "[1] \"numeric\""
            ]
          },
          "metadata": {}
        },
        {
          "output_type": "display_data",
          "data": {
            "text/html": [
              "'numeric'"
            ],
            "text/markdown": "'numeric'",
            "text/latex": "'numeric'",
            "text/plain": [
              "[1] \"numeric\""
            ]
          },
          "metadata": {}
        }
      ]
    },
    {
      "cell_type": "code",
      "source": [
        "# Casting\n",
        "a <- 123L\n",
        "class(a)\n",
        "a <- as.numeric(a)\n",
        "class(a)\n"
      ],
      "metadata": {
        "colab": {
          "base_uri": "https://localhost:8080/",
          "height": 52
        },
        "id": "IhwA6Dsm2UcB",
        "outputId": "03d3b26f-b0ef-4b27-a73f-0df377595af8"
      },
      "execution_count": 39,
      "outputs": [
        {
          "output_type": "display_data",
          "data": {
            "text/html": [
              "'integer'"
            ],
            "text/markdown": "'integer'",
            "text/latex": "'integer'",
            "text/plain": [
              "[1] \"integer\""
            ]
          },
          "metadata": {}
        },
        {
          "output_type": "display_data",
          "data": {
            "text/html": [
              "'numeric'"
            ],
            "text/markdown": "'numeric'",
            "text/latex": "'numeric'",
            "text/plain": [
              "[1] \"numeric\""
            ]
          },
          "metadata": {}
        }
      ]
    },
    {
      "cell_type": "code",
      "source": [
        "a <- as.complex(a)\n",
        "class(a)\n",
        "a"
      ],
      "metadata": {
        "colab": {
          "base_uri": "https://localhost:8080/",
          "height": 52
        },
        "id": "dbKrgqm22qbn",
        "outputId": "f95b0d06-0902-4d96-df16-863e8920e27f"
      },
      "execution_count": 40,
      "outputs": [
        {
          "output_type": "display_data",
          "data": {
            "text/html": [
              "'complex'"
            ],
            "text/markdown": "'complex'",
            "text/latex": "'complex'",
            "text/plain": [
              "[1] \"complex\""
            ]
          },
          "metadata": {}
        },
        {
          "output_type": "display_data",
          "data": {
            "text/html": [
              "123+0i"
            ],
            "text/markdown": "123+0i",
            "text/latex": "123+0i",
            "text/plain": [
              "[1] 123+0i"
            ]
          },
          "metadata": {}
        }
      ]
    },
    {
      "cell_type": "code",
      "source": [
        "# Math Functions\n",
        "max(1,2,3,4)"
      ],
      "metadata": {
        "colab": {
          "base_uri": "https://localhost:8080/",
          "height": 34
        },
        "id": "ggyABmyC3OI6",
        "outputId": "2553b99f-91d0-4474-b445-a4b0eac11f0f"
      },
      "execution_count": 47,
      "outputs": [
        {
          "output_type": "display_data",
          "data": {
            "text/html": [
              "4"
            ],
            "text/markdown": "4",
            "text/latex": "4",
            "text/plain": [
              "[1] 4"
            ]
          },
          "metadata": {}
        }
      ]
    },
    {
      "cell_type": "code",
      "source": [
        "# Math Functions\n",
        "sqrt(4)"
      ],
      "metadata": {
        "colab": {
          "base_uri": "https://localhost:8080/",
          "height": 34
        },
        "id": "h-19T8FZ3XvC",
        "outputId": "5fa9ebfb-fa49-40b7-8403-1ca30d7e784f"
      },
      "execution_count": 48,
      "outputs": [
        {
          "output_type": "display_data",
          "data": {
            "text/html": [
              "2"
            ],
            "text/markdown": "2",
            "text/latex": "2",
            "text/plain": [
              "[1] 2"
            ]
          },
          "metadata": {}
        }
      ]
    },
    {
      "cell_type": "code",
      "source": [
        "# Math Functions\n",
        "abs(-5)"
      ],
      "metadata": {
        "colab": {
          "base_uri": "https://localhost:8080/",
          "height": 34
        },
        "id": "QJWZYjeV3cPz",
        "outputId": "61fc15af-cfaf-49c9-c7d7-bd23690bc0c4"
      },
      "execution_count": 49,
      "outputs": [
        {
          "output_type": "display_data",
          "data": {
            "text/html": [
              "5"
            ],
            "text/markdown": "5",
            "text/latex": "5",
            "text/plain": [
              "[1] 5"
            ]
          },
          "metadata": {}
        }
      ]
    },
    {
      "cell_type": "code",
      "source": [
        "# Math Functions\n",
        "ceiling(0.5)\n",
        "floor(0.5)"
      ],
      "metadata": {
        "colab": {
          "base_uri": "https://localhost:8080/",
          "height": 52
        },
        "id": "TmUoRBfI3dtc",
        "outputId": "f6321b03-9a09-430e-8833-7ae24e8ae8e9"
      },
      "execution_count": 50,
      "outputs": [
        {
          "output_type": "display_data",
          "data": {
            "text/html": [
              "1"
            ],
            "text/markdown": "1",
            "text/latex": "1",
            "text/plain": [
              "[1] 1"
            ]
          },
          "metadata": {}
        },
        {
          "output_type": "display_data",
          "data": {
            "text/html": [
              "0"
            ],
            "text/markdown": "0",
            "text/latex": "0",
            "text/plain": [
              "[1] 0"
            ]
          },
          "metadata": {}
        }
      ]
    },
    {
      "cell_type": "code",
      "source": [
        "str <- \"Lorem ipsum dolor sit amet,\n",
        "consectetur adipiscing elit,\n",
        "sed do eiusmod tempor incididunt\n",
        "ut labore et dolore magna aliqua.\"\n",
        "\n",
        "print(str)\n",
        "cat(\"**************\\n\")\n",
        "cat(str)"
      ],
      "metadata": {
        "colab": {
          "base_uri": "https://localhost:8080/"
        },
        "id": "f9UJQpVG3wYe",
        "outputId": "bb3968a8-e843-4569-ed80-82b82086281f"
      },
      "execution_count": 59,
      "outputs": [
        {
          "output_type": "stream",
          "name": "stdout",
          "text": [
            "[1] \"Lorem ipsum dolor sit amet,\\nconsectetur adipiscing elit,\\nsed do eiusmod tempor incididunt\\nut labore et dolore magna aliqua.\"\n",
            "**************\n",
            "Lorem ipsum dolor sit amet,\n",
            "consectetur adipiscing elit,\n",
            "sed do eiusmod tempor incididunt\n",
            "ut labore et dolore magna aliqua."
          ]
        }
      ]
    },
    {
      "cell_type": "code",
      "source": [
        "str <- \"moeein\"\n",
        "nchar(str)"
      ],
      "metadata": {
        "colab": {
          "base_uri": "https://localhost:8080/",
          "height": 34
        },
        "id": "lT1KSXH16mNY",
        "outputId": "c8efeed2-e3ca-4fd5-f192-063d81b47e3a"
      },
      "execution_count": 60,
      "outputs": [
        {
          "output_type": "display_data",
          "data": {
            "text/html": [
              "6"
            ],
            "text/markdown": "6",
            "text/latex": "6",
            "text/plain": [
              "[1] 6"
            ]
          },
          "metadata": {}
        }
      ]
    },
    {
      "cell_type": "code",
      "source": [
        "# grepl(subSTR,STR)\n",
        "\n",
        "grepl(\"mo\",str)"
      ],
      "metadata": {
        "colab": {
          "base_uri": "https://localhost:8080/",
          "height": 34
        },
        "id": "CXNcIQUK6smi",
        "outputId": "0c9247d3-c986-4a94-93ed-a22cb53c3835"
      },
      "execution_count": 63,
      "outputs": [
        {
          "output_type": "display_data",
          "data": {
            "text/html": [
              "TRUE"
            ],
            "text/markdown": "TRUE",
            "text/latex": "TRUE",
            "text/plain": [
              "[1] TRUE"
            ]
          },
          "metadata": {}
        }
      ]
    },
    {
      "cell_type": "code",
      "source": [
        "str1 <- \"Hello\"\n",
        "str2 <- \"World\"\n",
        "\n",
        "str3 <- paste(str1, str2)\n",
        "str3"
      ],
      "metadata": {
        "colab": {
          "base_uri": "https://localhost:8080/",
          "height": 34
        },
        "id": "WlcJPg4C7MF5",
        "outputId": "b9d85928-cfdf-494d-e1a8-1e0ec1322f25"
      },
      "execution_count": 66,
      "outputs": [
        {
          "output_type": "display_data",
          "data": {
            "text/html": [
              "'Hello World'"
            ],
            "text/markdown": "'Hello World'",
            "text/latex": "'Hello World'",
            "text/plain": [
              "[1] \"Hello World\""
            ]
          },
          "metadata": {}
        }
      ]
    },
    {
      "cell_type": "code",
      "source": [
        "str <- \"We are the so-called \\\"Vikings\\\", from the north.\"\n",
        "\n",
        "str\n",
        "cat(paste(str,\"\\n\"))\n",
        "# auto-printing the str variable will print the backslash in the output. You can use the cat() function to print it without backslash."
      ],
      "metadata": {
        "colab": {
          "base_uri": "https://localhost:8080/",
          "height": 52
        },
        "id": "-vJcyDhU7nAH",
        "outputId": "87b970c3-bdc4-4dd7-f411-a3e6f9b27ec6"
      },
      "execution_count": 72,
      "outputs": [
        {
          "output_type": "display_data",
          "data": {
            "text/html": [
              "'We are the so-called \"Vikings\", from the north.'"
            ],
            "text/markdown": "'We are the so-called \"Vikings\", from the north.'",
            "text/latex": "'We are the so-called \"Vikings\", from the north.'",
            "text/plain": [
              "[1] \"We are the so-called \\\"Vikings\\\", from the north.\""
            ]
          },
          "metadata": {}
        },
        {
          "output_type": "stream",
          "name": "stdout",
          "text": [
            "We are the so-called \"Vikings\", from the north. \n"
          ]
        }
      ]
    },
    {
      "cell_type": "code",
      "source": [
        "a <- 10\n",
        "b <- 10\n",
        "c <- 11\n",
        "\n",
        "a == c\n",
        "a == b"
      ],
      "metadata": {
        "colab": {
          "base_uri": "https://localhost:8080/",
          "height": 52
        },
        "id": "V8nSU1-F-0OC",
        "outputId": "bd5ebb72-5024-4c9f-b53b-3889edf4c9ce"
      },
      "execution_count": 73,
      "outputs": [
        {
          "output_type": "display_data",
          "data": {
            "text/html": [
              "FALSE"
            ],
            "text/markdown": "FALSE",
            "text/latex": "FALSE",
            "text/plain": [
              "[1] FALSE"
            ]
          },
          "metadata": {}
        },
        {
          "output_type": "display_data",
          "data": {
            "text/html": [
              "TRUE"
            ],
            "text/markdown": "TRUE",
            "text/latex": "TRUE",
            "text/plain": [
              "[1] TRUE"
            ]
          },
          "metadata": {}
        }
      ]
    },
    {
      "cell_type": "code",
      "source": [
        "if(a > c){\n",
        "  print(\"a is greater than c\")\n",
        "}else{\n",
        "  print(\"c is greater than a\")\n",
        "}"
      ],
      "metadata": {
        "colab": {
          "base_uri": "https://localhost:8080/"
        },
        "id": "YWgyLyzn-5XL",
        "outputId": "63b12ae9-9d0b-45a1-f86a-3e17e0171608"
      },
      "execution_count": 77,
      "outputs": [
        {
          "output_type": "stream",
          "name": "stdout",
          "text": [
            "[1] \"c is greater than a\"\n"
          ]
        }
      ]
    },
    {
      "cell_type": "code",
      "source": [
        "# Integer Division\n",
        "10 %/% 3"
      ],
      "metadata": {
        "colab": {
          "base_uri": "https://localhost:8080/",
          "height": 34
        },
        "id": "ki6SQd8ZAQxx",
        "outputId": "4b8608d2-e650-4ebe-de35-638e66064228"
      },
      "execution_count": 82,
      "outputs": [
        {
          "output_type": "display_data",
          "data": {
            "text/html": [
              "3"
            ],
            "text/markdown": "3",
            "text/latex": "3",
            "text/plain": [
              "[1] 3"
            ]
          },
          "metadata": {}
        }
      ]
    },
    {
      "cell_type": "code",
      "source": [
        "as.integer(10 / 3)"
      ],
      "metadata": {
        "colab": {
          "base_uri": "https://localhost:8080/",
          "height": 34
        },
        "id": "YYoqlQaIAacd",
        "outputId": "f011d007-6760-40e9-a556-d35dd4bf7636"
      },
      "execution_count": 83,
      "outputs": [
        {
          "output_type": "display_data",
          "data": {
            "text/html": [
              "3"
            ],
            "text/markdown": "3",
            "text/latex": "3",
            "text/plain": [
              "[1] 3"
            ]
          },
          "metadata": {}
        }
      ]
    },
    {
      "cell_type": "code",
      "source": [
        "as.integer(10 / 3) == 10 %/% 3"
      ],
      "metadata": {
        "colab": {
          "base_uri": "https://localhost:8080/",
          "height": 34
        },
        "id": "zFaRp00iAev1",
        "outputId": "a99e7f8c-d4d5-4eab-f3ea-27365c68ec13"
      },
      "execution_count": 84,
      "outputs": [
        {
          "output_type": "display_data",
          "data": {
            "text/html": [
              "TRUE"
            ],
            "text/markdown": "TRUE",
            "text/latex": "TRUE",
            "text/plain": [
              "[1] TRUE"
            ]
          },
          "metadata": {}
        }
      ]
    },
    {
      "cell_type": "code",
      "source": [
        "10 %% 3"
      ],
      "metadata": {
        "colab": {
          "base_uri": "https://localhost:8080/",
          "height": 34
        },
        "id": "HJD48EAiAipb",
        "outputId": "57bc66ed-cba5-403a-fa0f-a00fc3b21586"
      },
      "execution_count": 85,
      "outputs": [
        {
          "output_type": "display_data",
          "data": {
            "text/html": [
              "1"
            ],
            "text/markdown": "1",
            "text/latex": "1",
            "text/plain": [
              "[1] 1"
            ]
          },
          "metadata": {}
        }
      ]
    },
    {
      "cell_type": "code",
      "source": [
        "my_var <- 1\n",
        "\n",
        "my_var <<- 2\n",
        "\n",
        "4 -> my_var\n",
        "\n",
        "5 ->> my_var\n",
        "\n",
        "my_var"
      ],
      "metadata": {
        "colab": {
          "base_uri": "https://localhost:8080/",
          "height": 34
        },
        "id": "SZKsYqh1BYSi",
        "outputId": "23fefa1e-0856-4a2c-9581-d4f9617638f9"
      },
      "execution_count": 91,
      "outputs": [
        {
          "output_type": "display_data",
          "data": {
            "text/html": [
              "5"
            ],
            "text/markdown": "5",
            "text/latex": "5",
            "text/plain": [
              "[1] 5"
            ]
          },
          "metadata": {}
        }
      ]
    },
    {
      "cell_type": "code",
      "source": [
        "1 | 2\n",
        "1 || 2"
      ],
      "metadata": {
        "colab": {
          "base_uri": "https://localhost:8080/",
          "height": 52
        },
        "id": "WrFqZ83HEF8L",
        "outputId": "98eee0ff-df78-4798-bb87-e74d0d7cc6c8"
      },
      "execution_count": 93,
      "outputs": [
        {
          "output_type": "display_data",
          "data": {
            "text/html": [
              "TRUE"
            ],
            "text/markdown": "TRUE",
            "text/latex": "TRUE",
            "text/plain": [
              "[1] TRUE"
            ]
          },
          "metadata": {}
        },
        {
          "output_type": "display_data",
          "data": {
            "text/html": [
              "TRUE"
            ],
            "text/markdown": "TRUE",
            "text/latex": "TRUE",
            "text/plain": [
              "[1] TRUE"
            ]
          },
          "metadata": {}
        }
      ]
    },
    {
      "cell_type": "code",
      "source": [
        "x <- 1:10\n",
        "x"
      ],
      "metadata": {
        "colab": {
          "base_uri": "https://localhost:8080/",
          "height": 34
        },
        "id": "4psgaHXzIUQM",
        "outputId": "5360f9ba-fdb9-45d6-908f-8bac1a4d9366"
      },
      "execution_count": 98,
      "outputs": [
        {
          "output_type": "display_data",
          "data": {
            "text/html": [
              "<style>\n",
              ".list-inline {list-style: none; margin:0; padding: 0}\n",
              ".list-inline>li {display: inline-block}\n",
              ".list-inline>li:not(:last-child)::after {content: \"\\00b7\"; padding: 0 .5ex}\n",
              "</style>\n",
              "<ol class=list-inline><li>1</li><li>2</li><li>3</li><li>4</li><li>5</li><li>6</li><li>7</li><li>8</li><li>9</li><li>10</li></ol>\n"
            ],
            "text/markdown": "1. 1\n2. 2\n3. 3\n4. 4\n5. 5\n6. 6\n7. 7\n8. 8\n9. 9\n10. 10\n\n\n",
            "text/latex": "\\begin{enumerate*}\n\\item 1\n\\item 2\n\\item 3\n\\item 4\n\\item 5\n\\item 6\n\\item 7\n\\item 8\n\\item 9\n\\item 10\n\\end{enumerate*}\n",
            "text/plain": [
              " [1]  1  2  3  4  5  6  7  8  9 10"
            ]
          },
          "metadata": {}
        }
      ]
    },
    {
      "cell_type": "code",
      "source": [
        "# seq(from,to,by)\n",
        "x <- seq(from = 1, to = 10, by = 3)\n",
        "x"
      ],
      "metadata": {
        "colab": {
          "base_uri": "https://localhost:8080/",
          "height": 34
        },
        "id": "i97TMWxVIwHD",
        "outputId": "e19a0324-8ea6-4681-d6a9-7a11e193d155"
      },
      "execution_count": 102,
      "outputs": [
        {
          "output_type": "display_data",
          "data": {
            "text/html": [
              "<style>\n",
              ".list-inline {list-style: none; margin:0; padding: 0}\n",
              ".list-inline>li {display: inline-block}\n",
              ".list-inline>li:not(:last-child)::after {content: \"\\00b7\"; padding: 0 .5ex}\n",
              "</style>\n",
              "<ol class=list-inline><li>1</li><li>4</li><li>7</li><li>10</li></ol>\n"
            ],
            "text/markdown": "1. 1\n2. 4\n3. 7\n4. 10\n\n\n",
            "text/latex": "\\begin{enumerate*}\n\\item 1\n\\item 4\n\\item 7\n\\item 10\n\\end{enumerate*}\n",
            "text/plain": [
              "[1]  1  4  7 10"
            ]
          },
          "metadata": {}
        }
      ]
    },
    {
      "cell_type": "code",
      "source": [
        "i <- 0\n",
        "while (i < 6) {\n",
        "  i <- i + 1\n",
        "  if (i == 3) {\n",
        "    # continue\n",
        "    next\n",
        "  }\n",
        "  print(i)\n",
        "}"
      ],
      "metadata": {
        "colab": {
          "base_uri": "https://localhost:8080/"
        },
        "id": "Pc_1nFDOI6rt",
        "outputId": "52cbc41b-78ff-4db7-fb93-e84a8525f690"
      },
      "execution_count": 108,
      "outputs": [
        {
          "output_type": "stream",
          "name": "stdout",
          "text": [
            "[1] 1\n",
            "[1] 2\n",
            "[1] 4\n",
            "[1] 5\n",
            "[1] 6\n"
          ]
        }
      ]
    },
    {
      "cell_type": "code",
      "source": [
        "for (x in seq(from = 1, to = 10, by = 3)) {\n",
        "  print(x)\n",
        "}"
      ],
      "metadata": {
        "colab": {
          "base_uri": "https://localhost:8080/"
        },
        "id": "n18ffPIWKP86",
        "outputId": "437de74b-9327-4775-df2a-caa661b442be"
      },
      "execution_count": 110,
      "outputs": [
        {
          "output_type": "stream",
          "name": "stdout",
          "text": [
            "[1] 1\n",
            "[1] 4\n",
            "[1] 7\n",
            "[1] 10\n"
          ]
        }
      ]
    },
    {
      "cell_type": "code",
      "source": [
        "fruits <- list(\"apple\", \"banana\", \"cherry\")\n",
        "\n",
        "for (x in fruits) {\n",
        "  print(x)\n",
        "}"
      ],
      "metadata": {
        "colab": {
          "base_uri": "https://localhost:8080/"
        },
        "id": "pReITPzrKWIA",
        "outputId": "e605cb60-3a7e-421d-bcaf-6a8b1fe21ef1"
      },
      "execution_count": 111,
      "outputs": [
        {
          "output_type": "stream",
          "name": "stdout",
          "text": [
            "[1] \"apple\"\n",
            "[1] \"banana\"\n",
            "[1] \"cherry\"\n"
          ]
        }
      ]
    },
    {
      "cell_type": "code",
      "source": [
        "dice <- 1:6\n",
        "\n",
        "for(x in dice) {\n",
        "  if (x == 6) {\n",
        "    print(paste(\"The dice number is\", x, \"Yahtzee!\"))\n",
        "  } else {\n",
        "    print(paste(\"The dice number is\", x, \"Not Yahtzee\"))\n",
        "  }\n",
        "}"
      ],
      "metadata": {
        "colab": {
          "base_uri": "https://localhost:8080/"
        },
        "id": "TQRvhwSoKcOs",
        "outputId": "1d3ea560-b6ac-42a1-a930-8922cc8342cc"
      },
      "execution_count": 116,
      "outputs": [
        {
          "output_type": "stream",
          "name": "stdout",
          "text": [
            "[1] \"The dice number is 1 Not Yahtzee\"\n",
            "[1] \"The dice number is 2 Not Yahtzee\"\n",
            "[1] \"The dice number is 3 Not Yahtzee\"\n",
            "[1] \"The dice number is 4 Not Yahtzee\"\n",
            "[1] \"The dice number is 5 Not Yahtzee\"\n",
            "[1] \"The dice number is 6 Yahtzee!\"\n"
          ]
        }
      ]
    },
    {
      "cell_type": "code",
      "source": [
        "adj <- list(\"red\", \"big\", \"tasty\")\n",
        "\n",
        "fruits <- list(\"apple\", \"banana\", \"cherry\")\n",
        "  for (x in adj) {\n",
        "    for (y in fruits) {\n",
        "      print(paste(x, y))\n",
        "  }\n",
        "}"
      ],
      "metadata": {
        "colab": {
          "base_uri": "https://localhost:8080/"
        },
        "id": "I4Qbsr1PKvpY",
        "outputId": "ed0030eb-b6b5-4d53-9065-926bc69cdb5c"
      },
      "execution_count": 117,
      "outputs": [
        {
          "output_type": "stream",
          "name": "stdout",
          "text": [
            "[1] \"red apple\"\n",
            "[1] \"red banana\"\n",
            "[1] \"red cherry\"\n",
            "[1] \"big apple\"\n",
            "[1] \"big banana\"\n",
            "[1] \"big cherry\"\n",
            "[1] \"tasty apple\"\n",
            "[1] \"tasty banana\"\n",
            "[1] \"tasty cherry\"\n"
          ]
        }
      ]
    },
    {
      "cell_type": "code",
      "source": [
        "# Define Function\n",
        "my_function <- function() { # create a function with the name my_function\n",
        "  print(\"Hello World!\")\n",
        "}"
      ],
      "metadata": {
        "id": "G3COZT61K9Hd"
      },
      "execution_count": 118,
      "outputs": []
    },
    {
      "cell_type": "code",
      "source": [
        "my_function()"
      ],
      "metadata": {
        "colab": {
          "base_uri": "https://localhost:8080/"
        },
        "id": "cCoDzNRQLAzE",
        "outputId": "3df79347-e763-4f33-97e7-8b6e7076a6c8"
      },
      "execution_count": 119,
      "outputs": [
        {
          "output_type": "stream",
          "name": "stdout",
          "text": [
            "[1] \"Hello World!\"\n"
          ]
        }
      ]
    },
    {
      "cell_type": "code",
      "source": [
        "my_function <- function(name) {\n",
        "  paste(name, \"aali\")\n",
        "}\n",
        "\n",
        "my_function(\"moeein\")\n",
        "my_function(\"mohammad\")"
      ],
      "metadata": {
        "colab": {
          "base_uri": "https://localhost:8080/",
          "height": 52
        },
        "id": "NsdyETCWLGs9",
        "outputId": "78d08c03-b6a1-49d8-fee3-cf0e88a22833"
      },
      "execution_count": 120,
      "outputs": [
        {
          "output_type": "display_data",
          "data": {
            "text/html": [
              "'moeein aali'"
            ],
            "text/markdown": "'moeein aali'",
            "text/latex": "'moeein aali'",
            "text/plain": [
              "[1] \"moeein aali\""
            ]
          },
          "metadata": {}
        },
        {
          "output_type": "display_data",
          "data": {
            "text/html": [
              "'mohammad aali'"
            ],
            "text/markdown": "'mohammad aali'",
            "text/latex": "'mohammad aali'",
            "text/plain": [
              "[1] \"mohammad aali\""
            ]
          },
          "metadata": {}
        }
      ]
    },
    {
      "cell_type": "code",
      "source": [
        "my_function <- function(a, b) {\n",
        "  paste(a, b)\n",
        "}\n",
        "\n",
        "fullName <- my_function(\"moeein\", \"aali\")\n",
        "fullName"
      ],
      "metadata": {
        "colab": {
          "base_uri": "https://localhost:8080/",
          "height": 34
        },
        "id": "WTk_MDawLUPH",
        "outputId": "2b44a2d0-ec10-4ce3-b28f-f1c235ad3ed2"
      },
      "execution_count": 122,
      "outputs": [
        {
          "output_type": "display_data",
          "data": {
            "text/html": [
              "'moeein aali'"
            ],
            "text/markdown": "'moeein aali'",
            "text/latex": "'moeein aali'",
            "text/plain": [
              "[1] \"moeein aali\""
            ]
          },
          "metadata": {}
        }
      ]
    },
    {
      "cell_type": "code",
      "source": [
        "# Default Parameter Value\n",
        "my_function <- function(country = \"Iran\") {\n",
        "  paste(\"I am from\", country)\n",
        "}\n",
        "\n",
        "my_function(\"Sweden\")\n",
        "my_function(\"India\")\n",
        "# will get the default value, which is Norway\n",
        "my_function()\n",
        "my_function(\"USA\")"
      ],
      "metadata": {
        "colab": {
          "base_uri": "https://localhost:8080/",
          "height": 86
        },
        "id": "i2fJNHOILgWi",
        "outputId": "582eb16e-d785-4c85-8cfe-853f7142f945"
      },
      "execution_count": 127,
      "outputs": [
        {
          "output_type": "display_data",
          "data": {
            "text/html": [
              "'I am from Sweden'"
            ],
            "text/markdown": "'I am from Sweden'",
            "text/latex": "'I am from Sweden'",
            "text/plain": [
              "[1] \"I am from Sweden\""
            ]
          },
          "metadata": {}
        },
        {
          "output_type": "display_data",
          "data": {
            "text/html": [
              "'I am from India'"
            ],
            "text/markdown": "'I am from India'",
            "text/latex": "'I am from India'",
            "text/plain": [
              "[1] \"I am from India\""
            ]
          },
          "metadata": {}
        },
        {
          "output_type": "display_data",
          "data": {
            "text/html": [
              "'I am from Iran'"
            ],
            "text/markdown": "'I am from Iran'",
            "text/latex": "'I am from Iran'",
            "text/plain": [
              "[1] \"I am from Iran\""
            ]
          },
          "metadata": {}
        },
        {
          "output_type": "display_data",
          "data": {
            "text/html": [
              "'I am from USA'"
            ],
            "text/markdown": "'I am from USA'",
            "text/latex": "'I am from USA'",
            "text/plain": [
              "[1] \"I am from USA\""
            ]
          },
          "metadata": {}
        }
      ]
    },
    {
      "cell_type": "code",
      "source": [
        "Nested_function <- function(x, y) {\n",
        "  a <- x + y\n",
        "  return(a)\n",
        "}\n",
        "\n",
        "print(Nested_function(Nested_function(2,2), Nested_function(3,3)))"
      ],
      "metadata": {
        "colab": {
          "base_uri": "https://localhost:8080/"
        },
        "id": "-JJP1i_jMHtQ",
        "outputId": "c03152d5-789d-4a41-ed60-cbea4d525ecc"
      },
      "execution_count": 130,
      "outputs": [
        {
          "output_type": "stream",
          "name": "stdout",
          "text": [
            "[1] 10\n"
          ]
        }
      ]
    },
    {
      "cell_type": "code",
      "source": [
        "txt <- \"good\"\n",
        "my_function <- function() {\n",
        "  paste(\"R is\", txt)\n",
        "}\n",
        "\n",
        "my_function()"
      ],
      "metadata": {
        "colab": {
          "base_uri": "https://localhost:8080/",
          "height": 34
        },
        "id": "-7KTIuf7Nvbl",
        "outputId": "207d5e15-7287-46e5-d6fe-95a4979e6d4b"
      },
      "execution_count": 131,
      "outputs": [
        {
          "output_type": "display_data",
          "data": {
            "text/html": [
              "'R is good'"
            ],
            "text/markdown": "'R is good'",
            "text/latex": "'R is good'",
            "text/plain": [
              "[1] \"R is good\""
            ]
          },
          "metadata": {}
        }
      ]
    },
    {
      "cell_type": "code",
      "source": [
        "# global assignment\n",
        "\n",
        "my_function <- function() {\n",
        "txt <<- \"Aali\"\n",
        "  paste(\"Moeein\", txt)\n",
        "}\n",
        "\n",
        "my_function()\n",
        "\n",
        "print(txt)"
      ],
      "metadata": {
        "colab": {
          "base_uri": "https://localhost:8080/",
          "height": 52
        },
        "id": "fq2KwTuqSffM",
        "outputId": "d7e2a926-e541-451f-e385-feba53997efc"
      },
      "execution_count": 134,
      "outputs": [
        {
          "output_type": "display_data",
          "data": {
            "text/html": [
              "'Moeein Aali'"
            ],
            "text/markdown": "'Moeein Aali'",
            "text/latex": "'Moeein Aali'",
            "text/plain": [
              "[1] \"Moeein Aali\""
            ]
          },
          "metadata": {}
        },
        {
          "output_type": "stream",
          "name": "stdout",
          "text": [
            "[1] \"Aali\"\n"
          ]
        }
      ]
    },
    {
      "cell_type": "code",
      "source": [
        "# R does't Call By Refrence\n",
        "my_function <- function(a) {\n",
        "  a <- a + 1\n",
        "}\n",
        "a <- 2\n",
        "a\n",
        "my_function(a)\n",
        "a"
      ],
      "metadata": {
        "colab": {
          "base_uri": "https://localhost:8080/",
          "height": 52
        },
        "id": "gd50GWJxS4XR",
        "outputId": "d0713d57-46a6-4dec-d334-cb46791936f4"
      },
      "execution_count": 140,
      "outputs": [
        {
          "output_type": "display_data",
          "data": {
            "text/html": [
              "2"
            ],
            "text/markdown": "2",
            "text/latex": "2",
            "text/plain": [
              "[1] 2"
            ]
          },
          "metadata": {}
        },
        {
          "output_type": "display_data",
          "data": {
            "text/html": [
              "2"
            ],
            "text/markdown": "2",
            "text/latex": "2",
            "text/plain": [
              "[1] 2"
            ]
          },
          "metadata": {}
        }
      ]
    },
    {
      "cell_type": "markdown",
      "source": [
        "## tilte\n",
        "---"
      ],
      "metadata": {
        "id": "zluxUmuEzyF9"
      }
    }
  ]
}